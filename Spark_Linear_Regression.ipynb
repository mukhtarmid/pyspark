{
  "nbformat": 4,
  "nbformat_minor": 0,
  "metadata": {
    "colab": {
      "provenance": []
    },
    "kernelspec": {
      "name": "python3",
      "display_name": "Python 3"
    },
    "language_info": {
      "name": "python"
    }
  },
  "cells": [
    {
      "cell_type": "code",
      "execution_count": 1,
      "metadata": {
        "id": "nrqNQKJTn-_h"
      },
      "outputs": [],
      "source": [
        "from pyspark.sql import SparkSession"
      ]
    },
    {
      "cell_type": "code",
      "source": [
        "spark = SparkSession.builder.appName('Linear Regression').getOrCreate()"
      ],
      "metadata": {
        "id": "w2-F79u-oro5"
      },
      "execution_count": 2,
      "outputs": []
    },
    {
      "cell_type": "code",
      "source": [
        "spark"
      ],
      "metadata": {
        "colab": {
          "base_uri": "https://localhost:8080/",
          "height": 219
        },
        "id": "X7T2NUEeo38i",
        "outputId": "a2f8d9e0-1c39-4150-8fe9-a5b3f87b9075"
      },
      "execution_count": 3,
      "outputs": [
        {
          "output_type": "execute_result",
          "data": {
            "text/plain": [
              "<pyspark.sql.session.SparkSession at 0x78e9d8309910>"
            ],
            "text/html": [
              "\n",
              "            <div>\n",
              "                <p><b>SparkSession - in-memory</b></p>\n",
              "                \n",
              "        <div>\n",
              "            <p><b>SparkContext</b></p>\n",
              "\n",
              "            <p><a href=\"http://7e5c2fb4caa5:4040\">Spark UI</a></p>\n",
              "\n",
              "            <dl>\n",
              "              <dt>Version</dt>\n",
              "                <dd><code>v3.5.4</code></dd>\n",
              "              <dt>Master</dt>\n",
              "                <dd><code>local[*]</code></dd>\n",
              "              <dt>AppName</dt>\n",
              "                <dd><code>Linear Regression</code></dd>\n",
              "            </dl>\n",
              "        </div>\n",
              "        \n",
              "            </div>\n",
              "        "
            ]
          },
          "metadata": {},
          "execution_count": 3
        }
      ]
    },
    {
      "cell_type": "code",
      "source": [
        "data = spark.read.csv('/content/CrewMemebers.csv',\n",
        "                      header=True, inferSchema=True)"
      ],
      "metadata": {
        "id": "7P_rS5W9o8GQ"
      },
      "execution_count": 6,
      "outputs": []
    },
    {
      "cell_type": "code",
      "source": [
        "data.show()"
      ],
      "metadata": {
        "colab": {
          "base_uri": "https://localhost:8080/"
        },
        "id": "hR2Omf-2qdfa",
        "outputId": "de0ca149-9f60-4eab-face-d00eb8e01749"
      },
      "execution_count": 7,
      "outputs": [
        {
          "output_type": "stream",
          "name": "stdout",
          "text": [
            "+---+------+----------+------+----------+----------------+-------+------------+\n",
            "|Age|Cabins|CruiseType|Length|Passengers|PassengerDensity|Tonnage|CrewRequired|\n",
            "+---+------+----------+------+----------+----------------+-------+------------+\n",
            "| 22|  0.33|     Costa|   2.8|      0.66|           50.62|  3.341|        0.59|\n",
            "| 22|  0.33|     Costa|  2.79|      0.66|           50.62|  3.341|        0.59|\n",
            "| 12|  0.45|     Costa|  2.96|      0.94|           24.78|  2.329|         0.6|\n",
            "| 27|  0.74|     Costa|   4.4|      1.67|           32.04|   5.35|        0.88|\n",
            "| 25|  0.74|     Costa|   4.4|      1.58|           33.86|   5.35|        0.88|\n",
            "| 27|  0.88|     Costa|  4.36|      3.94|           31.73|   12.5|        1.46|\n",
            "| 21|  1.04|     Costa|   4.4|      2.08|           48.08|   10.0|         1.6|\n",
            "| 27|  1.04|     Costa|   4.4|      2.08|           48.08|   10.0|         1.6|\n",
            "| 24|  1.04|     Costa|   4.4|      2.08|           48.08|   10.0|         1.6|\n",
            "| 23|  1.56|     Costa|  6.17|      3.08|           47.87| 14.745|         1.8|\n",
            "| 19|  1.48|     Costa|  5.14|      2.96|           56.76|   16.8|        1.97|\n",
            "| 19|  1.48|     Costa|  5.14|      2.96|           56.76|   16.8|         2.1|\n",
            "| 16|   1.6|     Costa|  5.13|       3.2|            60.0|   19.2|        2.11|\n",
            "| 12|  1.94|     Costa|  5.97|      3.88|           64.43|   25.0|        2.87|\n",
            "| 13|  1.94|     Costa|  5.97|      3.82|           65.45|   25.0|        2.95|\n",
            "| 36|  3.83|     Costa|  5.41|      9.52|            17.7| 16.852|        2.97|\n",
            "| 14|  2.45|     Costa|   5.6|       4.9|           67.35|   33.0|        3.24|\n",
            "| 48|  4.25|     Costa|  5.78|      8.26|           26.73|  22.08|         3.5|\n",
            "|  6|  3.55|     Costa|  5.94|      6.94|           42.64| 30.277|        3.55|\n",
            "|  6|  3.55|     Costa|  5.94|      6.94|           42.64| 30.277|        3.55|\n",
            "+---+------+----------+------+----------+----------------+-------+------------+\n",
            "only showing top 20 rows\n",
            "\n"
          ]
        }
      ]
    },
    {
      "cell_type": "code",
      "source": [
        "data.groupBy('CruiseType').count().orderBy('count').show()"
      ],
      "metadata": {
        "colab": {
          "base_uri": "https://localhost:8080/"
        },
        "id": "sTbPKCvzrkrQ",
        "outputId": "c4c2d7f3-3f7a-419b-fbe7-0b3fba661f19"
      },
      "execution_count": 8,
      "outputs": [
        {
          "output_type": "stream",
          "name": "stdout",
          "text": [
            "+----------+-----+\n",
            "|CruiseType|count|\n",
            "+----------+-----+\n",
            "|      Star|   15|\n",
            "| Celebrity|   25|\n",
            "|     Costa|   28|\n",
            "|  Carnival|   45|\n",
            "|  Princess|   45|\n",
            "+----------+-----+\n",
            "\n"
          ]
        }
      ]
    },
    {
      "cell_type": "code",
      "source": [
        "from pyspark.ml.feature import StringIndexer"
      ],
      "metadata": {
        "id": "uFZJLv4MtOvT"
      },
      "execution_count": 9,
      "outputs": []
    },
    {
      "cell_type": "code",
      "source": [
        "indexer = StringIndexer(inputCol='CruiseType', outputCol='CruiseType_Label')"
      ],
      "metadata": {
        "id": "m9Pm6OkXs_Zi"
      },
      "execution_count": 10,
      "outputs": []
    },
    {
      "cell_type": "code",
      "source": [
        "data = indexer.fit(data).transform(data)"
      ],
      "metadata": {
        "id": "BrpOpZsOtWnC"
      },
      "execution_count": 11,
      "outputs": []
    },
    {
      "cell_type": "code",
      "source": [
        "data.show(5)"
      ],
      "metadata": {
        "colab": {
          "base_uri": "https://localhost:8080/"
        },
        "id": "HMHCYLLjtdx4",
        "outputId": "81be4e60-dac1-4f6c-a6d3-a0df4aa5e3cc"
      },
      "execution_count": 12,
      "outputs": [
        {
          "output_type": "stream",
          "name": "stdout",
          "text": [
            "+---+------+----------+------+----------+----------------+-------+------------+----------------+\n",
            "|Age|Cabins|CruiseType|Length|Passengers|PassengerDensity|Tonnage|CrewRequired|CruiseType_Label|\n",
            "+---+------+----------+------+----------+----------------+-------+------------+----------------+\n",
            "| 22|  0.33|     Costa|   2.8|      0.66|           50.62|  3.341|        0.59|             2.0|\n",
            "| 22|  0.33|     Costa|  2.79|      0.66|           50.62|  3.341|        0.59|             2.0|\n",
            "| 12|  0.45|     Costa|  2.96|      0.94|           24.78|  2.329|         0.6|             2.0|\n",
            "| 27|  0.74|     Costa|   4.4|      1.67|           32.04|   5.35|        0.88|             2.0|\n",
            "| 25|  0.74|     Costa|   4.4|      1.58|           33.86|   5.35|        0.88|             2.0|\n",
            "+---+------+----------+------+----------+----------------+-------+------------+----------------+\n",
            "only showing top 5 rows\n",
            "\n"
          ]
        }
      ]
    },
    {
      "cell_type": "code",
      "source": [
        "data = data.drop('CruiseType').withColumnRenamed('CruiseType_Label',\n",
        "                                                 'CruiseType')"
      ],
      "metadata": {
        "id": "NqLxxVsMtpah"
      },
      "execution_count": 13,
      "outputs": []
    },
    {
      "cell_type": "code",
      "source": [
        "data.take(3)"
      ],
      "metadata": {
        "colab": {
          "base_uri": "https://localhost:8080/"
        },
        "id": "NBko4J8-t-Mz",
        "outputId": "7dbccaf4-dc5f-477f-8787-d8f64616c0d5"
      },
      "execution_count": 14,
      "outputs": [
        {
          "output_type": "execute_result",
          "data": {
            "text/plain": [
              "[Row(Age=22, Cabins=0.33, Length=2.8, Passengers=0.66, PassengerDensity=50.62, Tonnage=3.341, CrewRequired=0.59, CruiseType=2.0),\n",
              " Row(Age=22, Cabins=0.33, Length=2.79, Passengers=0.66, PassengerDensity=50.62, Tonnage=3.341, CrewRequired=0.59, CruiseType=2.0),\n",
              " Row(Age=12, Cabins=0.45, Length=2.96, Passengers=0.94, PassengerDensity=24.78, Tonnage=2.329, CrewRequired=0.6, CruiseType=2.0)]"
            ]
          },
          "metadata": {},
          "execution_count": 14
        }
      ]
    },
    {
      "cell_type": "code",
      "source": [
        "from pyspark.ml.feature import VectorAssembler"
      ],
      "metadata": {
        "id": "6Ga3sEwPrLE9"
      },
      "execution_count": 15,
      "outputs": []
    },
    {
      "cell_type": "code",
      "source": [
        "features = VectorAssembler(inputCols=['Age',\n",
        " 'Cabins',\n",
        " 'CruiseType',\n",
        " 'Length',\n",
        " 'Passengers',\n",
        " 'PassengerDensity',\n",
        " 'Tonnage',], outputCol='Features')"
      ],
      "metadata": {
        "id": "hHhO4EDCrfR9"
      },
      "execution_count": 16,
      "outputs": []
    },
    {
      "cell_type": "code",
      "source": [
        "data = features.transform(data)"
      ],
      "metadata": {
        "id": "1NKKhmb5rtAo"
      },
      "execution_count": 17,
      "outputs": []
    },
    {
      "cell_type": "code",
      "source": [
        "modelData = data.select(['Features', 'CrewRequired'])"
      ],
      "metadata": {
        "id": "cnIzfLkcryGg"
      },
      "execution_count": 18,
      "outputs": []
    },
    {
      "cell_type": "code",
      "source": [
        "modelData.show()"
      ],
      "metadata": {
        "colab": {
          "base_uri": "https://localhost:8080/"
        },
        "id": "R7pCSRLSuIgs",
        "outputId": "9e0b4d98-a0b0-4fce-a401-ab3bbada555e"
      },
      "execution_count": 19,
      "outputs": [
        {
          "output_type": "stream",
          "name": "stdout",
          "text": [
            "+--------------------+------------+\n",
            "|            Features|CrewRequired|\n",
            "+--------------------+------------+\n",
            "|[22.0,0.33,2.0,2....|        0.59|\n",
            "|[22.0,0.33,2.0,2....|        0.59|\n",
            "|[12.0,0.45,2.0,2....|         0.6|\n",
            "|[27.0,0.74,2.0,4....|        0.88|\n",
            "|[25.0,0.74,2.0,4....|        0.88|\n",
            "|[27.0,0.88,2.0,4....|        1.46|\n",
            "|[21.0,1.04,2.0,4....|         1.6|\n",
            "|[27.0,1.04,2.0,4....|         1.6|\n",
            "|[24.0,1.04,2.0,4....|         1.6|\n",
            "|[23.0,1.56,2.0,6....|         1.8|\n",
            "|[19.0,1.48,2.0,5....|        1.97|\n",
            "|[19.0,1.48,2.0,5....|         2.1|\n",
            "|[16.0,1.6,2.0,5.1...|        2.11|\n",
            "|[12.0,1.94,2.0,5....|        2.87|\n",
            "|[13.0,1.94,2.0,5....|        2.95|\n",
            "|[36.0,3.83,2.0,5....|        2.97|\n",
            "|[14.0,2.45,2.0,5....|        3.24|\n",
            "|[48.0,4.25,2.0,5....|         3.5|\n",
            "|[6.0,3.55,2.0,5.9...|        3.55|\n",
            "|[6.0,3.55,2.0,5.9...|        3.55|\n",
            "+--------------------+------------+\n",
            "only showing top 20 rows\n",
            "\n"
          ]
        }
      ]
    },
    {
      "cell_type": "code",
      "source": [
        "train, test = modelData.randomSplit([.7,.3], seed = 2529)"
      ],
      "metadata": {
        "id": "fYy1moI0ugNg"
      },
      "execution_count": 20,
      "outputs": []
    },
    {
      "cell_type": "code",
      "source": [
        "from pyspark.ml.regression import LinearRegression"
      ],
      "metadata": {
        "id": "qKuHV_WpuqqU"
      },
      "execution_count": 21,
      "outputs": []
    },
    {
      "cell_type": "code",
      "source": [
        "linearRegressionModel = LinearRegression(featuresCol='Features',\n",
        "                                         labelCol='CrewRequired')"
      ],
      "metadata": {
        "id": "O_wPttCUuwKO"
      },
      "execution_count": 22,
      "outputs": []
    },
    {
      "cell_type": "code",
      "source": [
        "model = linearRegressionModel.fit(train)"
      ],
      "metadata": {
        "id": "rUuuuSGwvA93"
      },
      "execution_count": 23,
      "outputs": []
    },
    {
      "cell_type": "code",
      "source": [
        "model.coefficients, model.intercept"
      ],
      "metadata": {
        "colab": {
          "base_uri": "https://localhost:8080/"
        },
        "id": "yLeLP3-dvG-h",
        "outputId": "fd8d5f8b-92aa-4596-da9c-6a41a5a6535f"
      },
      "execution_count": 24,
      "outputs": [
        {
          "output_type": "execute_result",
          "data": {
            "text/plain": [
              "(DenseVector([-0.0106, 0.8446, 0.1815, 0.3497, -0.1585, 0.0039, 0.0148]),\n",
              " -0.927041345031894)"
            ]
          },
          "metadata": {},
          "execution_count": 24
        }
      ]
    },
    {
      "cell_type": "code",
      "source": [
        "yPrediction = model.transform(test.select('Features'))"
      ],
      "metadata": {
        "id": "gkh28XV4vQ0I"
      },
      "execution_count": 25,
      "outputs": []
    },
    {
      "cell_type": "code",
      "source": [
        "yPrediction.show()"
      ],
      "metadata": {
        "colab": {
          "base_uri": "https://localhost:8080/"
        },
        "id": "i00M9xvXvZQX",
        "outputId": "e2344b12-2db8-4673-b0d5-d94859ca58a3"
      },
      "execution_count": 26,
      "outputs": [
        {
          "output_type": "stream",
          "name": "stdout",
          "text": [
            "+--------------------+------------------+\n",
            "|            Features|        prediction|\n",
            "+--------------------+------------------+\n",
            "|[5.0,10.22,3.0,9....| 9.565700841109525|\n",
            "|[5.0,18.17,4.0,11...|15.760250373502673|\n",
            "|[6.0,10.29,3.0,9....| 9.952165053736875|\n",
            "|[6.0,11.97,0.0,9....|10.226287046308107|\n",
            "|[6.0,18.0,4.0,11....| 14.42487661572244|\n",
            "|[7.0,15.57,4.0,9....|13.149254856703376|\n",
            "|[8.0,11.22,0.0,9....| 9.786330267943683|\n",
            "|[8.0,14.87,0.0,9....|11.930677736605881|\n",
            "|[9.0,10.62,0.0,9....| 9.419477985250465|\n",
            "|[9.0,13.0,0.0,9.5...|11.051838370510529|\n",
            "|[9.0,13.37,4.0,9....|11.919444047393705|\n",
            "|[9.0,13.37,4.0,9....|11.919444047393705|\n",
            "|[10.0,13.56,0.0,8...|10.924494284833893|\n",
            "|[10.0,15.57,0.0,1...|12.963094266855252|\n",
            "|[11.0,10.5,3.0,9....|  9.24204399300724|\n",
            "|[12.0,3.54,1.0,7....| 4.502820462041679|\n",
            "|[12.0,7.83,1.0,8....|  7.15184623816765|\n",
            "|[12.0,9.75,0.0,9....| 8.854713495816261|\n",
            "|[12.0,11.62,0.0,9...| 10.23223866611498|\n",
            "|[13.0,1.94,2.0,5....|3.0413664328561936|\n",
            "+--------------------+------------------+\n",
            "only showing top 20 rows\n",
            "\n"
          ]
        }
      ]
    },
    {
      "cell_type": "code",
      "source": [
        "testResult = model.evaluate(test)"
      ],
      "metadata": {
        "id": "zaLkLWAOvbSi"
      },
      "execution_count": 27,
      "outputs": []
    },
    {
      "cell_type": "code",
      "source": [
        "testResult.rootMeanSquaredError"
      ],
      "metadata": {
        "colab": {
          "base_uri": "https://localhost:8080/"
        },
        "id": "iSaMtHcTviYN",
        "outputId": "f9e6da3a-49e6-42ab-b23b-cd2551f3f684"
      },
      "execution_count": 28,
      "outputs": [
        {
          "output_type": "execute_result",
          "data": {
            "text/plain": [
              "0.9753630331281856"
            ]
          },
          "metadata": {},
          "execution_count": 28
        }
      ]
    },
    {
      "cell_type": "code",
      "source": [
        "testResult.meanSquaredError"
      ],
      "metadata": {
        "colab": {
          "base_uri": "https://localhost:8080/"
        },
        "id": "EuwnaAIIvlN9",
        "outputId": "1c473c0a-2510-4389-df55-8540d980471f"
      },
      "execution_count": 29,
      "outputs": [
        {
          "output_type": "execute_result",
          "data": {
            "text/plain": [
              "0.9513330463930141"
            ]
          },
          "metadata": {},
          "execution_count": 29
        }
      ]
    },
    {
      "cell_type": "code",
      "source": [
        "testResult.meanAbsoluteError"
      ],
      "metadata": {
        "colab": {
          "base_uri": "https://localhost:8080/"
        },
        "id": "0P3nH9mRvobc",
        "outputId": "2e70a610-051b-4d34-974e-1a5cdff0c8c8"
      },
      "execution_count": 30,
      "outputs": [
        {
          "output_type": "execute_result",
          "data": {
            "text/plain": [
              "0.692428067881579"
            ]
          },
          "metadata": {},
          "execution_count": 30
        }
      ]
    },
    {
      "cell_type": "code",
      "source": [
        "testResult.r2"
      ],
      "metadata": {
        "colab": {
          "base_uri": "https://localhost:8080/"
        },
        "id": "E4dldLeKvr6w",
        "outputId": "c161aa84-c369-4dee-9e49-a3e6c9090bf1"
      },
      "execution_count": 31,
      "outputs": [
        {
          "output_type": "execute_result",
          "data": {
            "text/plain": [
              "0.9233256294119825"
            ]
          },
          "metadata": {},
          "execution_count": 31
        }
      ]
    },
    {
      "cell_type": "code",
      "source": [
        "testResult.r2adj"
      ],
      "metadata": {
        "colab": {
          "base_uri": "https://localhost:8080/"
        },
        "id": "3UZJJ_0hvwEA",
        "outputId": "d49e2675-2483-4472-f0a7-e43bff1ccd9e"
      },
      "execution_count": 32,
      "outputs": [
        {
          "output_type": "execute_result",
          "data": {
            "text/plain": [
              "0.908819667408844"
            ]
          },
          "metadata": {},
          "execution_count": 32
        }
      ]
    },
    {
      "cell_type": "code",
      "source": [
        "testResult.predictions.show()"
      ],
      "metadata": {
        "colab": {
          "base_uri": "https://localhost:8080/"
        },
        "id": "-OnAFaIBvyUs",
        "outputId": "49c5e2e7-327b-4ba2-ffa3-a664b2c27975"
      },
      "execution_count": 33,
      "outputs": [
        {
          "output_type": "stream",
          "name": "stdout",
          "text": [
            "+--------------------+------------+------------------+\n",
            "|            Features|CrewRequired|        prediction|\n",
            "+--------------------+------------+------------------+\n",
            "|[5.0,10.22,3.0,9....|         8.0| 9.565700841109525|\n",
            "|[5.0,18.17,4.0,11...|        13.6|15.760250373502673|\n",
            "|[6.0,10.29,3.0,9....|         9.0| 9.952165053736875|\n",
            "|[6.0,11.97,0.0,9....|       11.09|10.226287046308107|\n",
            "|[6.0,18.0,4.0,11....|        13.6| 14.42487661572244|\n",
            "|[7.0,15.57,4.0,9....|        12.0|13.149254856703376|\n",
            "|[8.0,11.22,0.0,9....|        11.0| 9.786330267943683|\n",
            "|[8.0,14.87,0.0,9....|        11.6|11.930677736605881|\n",
            "|[9.0,10.62,0.0,9....|        10.3| 9.419477985250465|\n",
            "|[9.0,13.0,0.0,9.5...|        11.0|11.051838370510529|\n",
            "|[9.0,13.37,4.0,9....|       12.38|11.919444047393705|\n",
            "|[9.0,13.37,4.0,9....|       12.38|11.919444047393705|\n",
            "|[10.0,13.56,0.0,8...|       10.68|10.924494284833893|\n",
            "|[10.0,15.57,0.0,1...|       11.85|12.963094266855252|\n",
            "|[11.0,10.5,3.0,9....|        8.48|  9.24204399300724|\n",
            "|[12.0,3.54,1.0,7....|        4.45| 4.502820462041679|\n",
            "|[12.0,7.83,1.0,8....|         7.0|  7.15184623816765|\n",
            "|[12.0,9.75,0.0,9....|        9.99| 8.854713495816261|\n",
            "|[12.0,11.62,0.0,9...|         9.3| 10.23223866611498|\n",
            "|[13.0,1.94,2.0,5....|        2.95|3.0413664328561936|\n",
            "+--------------------+------------+------------------+\n",
            "only showing top 20 rows\n",
            "\n"
          ]
        }
      ]
    },
    {
      "cell_type": "code",
      "source": [
        "testResult.residuals.show()"
      ],
      "metadata": {
        "colab": {
          "base_uri": "https://localhost:8080/"
        },
        "id": "RC7Zv9m8v13M",
        "outputId": "1429b347-9067-4c79-e4e5-0b2e1754d61d"
      },
      "execution_count": 34,
      "outputs": [
        {
          "output_type": "stream",
          "name": "stdout",
          "text": [
            "+--------------------+\n",
            "|           residuals|\n",
            "+--------------------+\n",
            "| -1.5657008411095248|\n",
            "| -2.1602503735026737|\n",
            "| -0.9521650537368753|\n",
            "|   0.863712953691893|\n",
            "| -0.8248766157224399|\n",
            "| -1.1492548567033758|\n",
            "|  1.2136697320563172|\n",
            "|-0.33067773660588173|\n",
            "|  0.8805220147495358|\n",
            "|-0.05183837051052...|\n",
            "| 0.46055595260629545|\n",
            "| 0.46055595260629545|\n",
            "| -0.2444942848338929|\n",
            "| -1.1130942668552528|\n",
            "| -0.7620439930072394|\n",
            "|-0.05282046204167923|\n",
            "|-0.15184623816764997|\n",
            "|   1.135286504183739|\n",
            "|   -0.93223866611498|\n",
            "|-0.09136643285619339|\n",
            "+--------------------+\n",
            "only showing top 20 rows\n",
            "\n"
          ]
        }
      ]
    },
    {
      "cell_type": "code",
      "source": [
        "spark.stop()"
      ],
      "metadata": {
        "id": "YqaCeicrwAqs"
      },
      "execution_count": 35,
      "outputs": []
    }
  ]
}