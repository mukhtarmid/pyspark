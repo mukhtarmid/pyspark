{
  "nbformat": 4,
  "nbformat_minor": 0,
  "metadata": {
    "colab": {
      "provenance": []
    },
    "kernelspec": {
      "name": "python3",
      "display_name": "Python 3"
    },
    "language_info": {
      "name": "python"
    }
  },
  "cells": [
    {
      "cell_type": "code",
      "source": [
        "from pyspark.sql import SparkSession"
      ],
      "metadata": {
        "id": "1LCSOFjjDQWP"
      },
      "execution_count": 1,
      "outputs": []
    },
    {
      "cell_type": "code",
      "source": [
        "spark = SparkSession.builder.appName(\"Ordinal Encoding PySpark\")\\\n",
        "                    .getOrCreate()"
      ],
      "metadata": {
        "id": "YF-50qm0Dlos"
      },
      "execution_count": 3,
      "outputs": []
    },
    {
      "cell_type": "code",
      "source": [
        "spark"
      ],
      "metadata": {
        "colab": {
          "base_uri": "https://localhost:8080/",
          "height": 219
        },
        "id": "vEbivfpKDwNK",
        "outputId": "2269f435-bd59-4420-83b3-ad9528d5b203"
      },
      "execution_count": 4,
      "outputs": [
        {
          "output_type": "execute_result",
          "data": {
            "text/plain": [
              "<pyspark.sql.session.SparkSession at 0x79b9dce25450>"
            ],
            "text/html": [
              "\n",
              "            <div>\n",
              "                <p><b>SparkSession - in-memory</b></p>\n",
              "                \n",
              "        <div>\n",
              "            <p><b>SparkContext</b></p>\n",
              "\n",
              "            <p><a href=\"http://ce069c447a8f:4040\">Spark UI</a></p>\n",
              "\n",
              "            <dl>\n",
              "              <dt>Version</dt>\n",
              "                <dd><code>v3.5.4</code></dd>\n",
              "              <dt>Master</dt>\n",
              "                <dd><code>local[*]</code></dd>\n",
              "              <dt>AppName</dt>\n",
              "                <dd><code>Ordinal Encoding PySpark</code></dd>\n",
              "            </dl>\n",
              "        </div>\n",
              "        \n",
              "            </div>\n",
              "        "
            ]
          },
          "metadata": {},
          "execution_count": 4
        }
      ]
    },
    {
      "cell_type": "code",
      "source": [
        "sparkDataframe = spark.read.csv('/content/AdultIncome.csv', header=True, inferSchema=True)"
      ],
      "metadata": {
        "id": "k8-I7KeaD3Ys"
      },
      "execution_count": 9,
      "outputs": []
    },
    {
      "cell_type": "code",
      "source": [
        "sparkDataframe.show()"
      ],
      "metadata": {
        "colab": {
          "base_uri": "https://localhost:8080/"
        },
        "id": "G6Ns5eWREDGj",
        "outputId": "16594f86-9a0a-4137-d02e-9dee12e7cad1"
      },
      "execution_count": 10,
      "outputs": [
        {
          "output_type": "stream",
          "name": "stdout",
          "text": [
            "+---+-------+------------+-------------+-------------+------+-----------+------+\n",
            "|Age|IsAdult|         Job|Qualification|MaritalStatus|Gender|BankBalance|Salary|\n",
            "+---+-------+------------+-------------+-------------+------+-----------+------+\n",
            "| 39|      1|     GovtJob|     Bachelor|    UnMarried|  Male|      77516| <=50K|\n",
            "| 50|      1|SelfEmployed|     Bachelor|      Married|  Male|      83311| <=50K|\n",
            "| 38|      1|  PrivateJob|     Bachelor|     Divorced|  Male|     215646| <=50K|\n",
            "| 53|      1|  PrivateJob|       School|      Married|  Male|     234721| <=50K|\n",
            "| 28|      1|  PrivateJob|     Bachelor|      Married|Female|     338409| <=50K|\n",
            "| 37|      1|  PrivateJob|      Masters|      Married|Female|     284582| <=50K|\n",
            "| 49|      1|  PrivateJob|       School|      Married|Female|     160187| <=50K|\n",
            "| 52|      1|SelfEmployed|     Bachelor|      Married|  Male|     209642|  >50K|\n",
            "| 31|      1|  PrivateJob|      Masters|    UnMarried|Female|      45781|  >50K|\n",
            "| 42|      1|  PrivateJob|     Bachelor|      Married|  Male|     159449|  >50K|\n",
            "| 37|      1|  PrivateJob|     Bachelor|      Married|  Male|     280464|  >50K|\n",
            "| 30|      1|     GovtJob|     Bachelor|      Married|  Male|     141297|  >50K|\n",
            "| 23|      1|  PrivateJob|     Bachelor|    UnMarried|Female|     122272| <=50K|\n",
            "| 32|      1|  PrivateJob|     Bachelor|    UnMarried|  Male|     205019| <=50K|\n",
            "| 40|      1|  PrivateJob|     Bachelor|      Married|  Male|     121772|  >50K|\n",
            "| 34|      1|  PrivateJob|       School|      Married|  Male|     245487| <=50K|\n",
            "| 25|      1|SelfEmployed|     Bachelor|    UnMarried|  Male|     176756| <=50K|\n",
            "| 32|      1|  PrivateJob|     Bachelor|    UnMarried|  Male|     186824| <=50K|\n",
            "| 38|      1|  PrivateJob|       School|      Married|  Male|      28887| <=50K|\n",
            "| 43|      1|SelfEmployed|      Masters|     Divorced|Female|     292175|  >50K|\n",
            "+---+-------+------------+-------------+-------------+------+-----------+------+\n",
            "only showing top 20 rows\n",
            "\n"
          ]
        }
      ]
    },
    {
      "cell_type": "code",
      "source": [
        "sparkDataframe.printSchema()"
      ],
      "metadata": {
        "colab": {
          "base_uri": "https://localhost:8080/"
        },
        "id": "V7gZxcr-EFFy",
        "outputId": "5894fb30-6ac8-4241-aea3-cc7c5be279c2"
      },
      "execution_count": 11,
      "outputs": [
        {
          "output_type": "stream",
          "name": "stdout",
          "text": [
            "root\n",
            " |-- Age: integer (nullable = true)\n",
            " |-- IsAdult: integer (nullable = true)\n",
            " |-- Job: string (nullable = true)\n",
            " |-- Qualification: string (nullable = true)\n",
            " |-- MaritalStatus: string (nullable = true)\n",
            " |-- Gender: string (nullable = true)\n",
            " |-- BankBalance: integer (nullable = true)\n",
            " |-- Salary: string (nullable = true)\n",
            "\n"
          ]
        }
      ]
    },
    {
      "cell_type": "code",
      "source": [
        "sparkDataframe.columns"
      ],
      "metadata": {
        "colab": {
          "base_uri": "https://localhost:8080/"
        },
        "id": "Wmgg2AbZElF0",
        "outputId": "051582f0-c32a-4d60-9667-8c97b7697160"
      },
      "execution_count": 12,
      "outputs": [
        {
          "output_type": "execute_result",
          "data": {
            "text/plain": [
              "['Age',\n",
              " 'IsAdult',\n",
              " 'Job',\n",
              " 'Qualification',\n",
              " 'MaritalStatus',\n",
              " 'Gender',\n",
              " 'BankBalance',\n",
              " 'Salary']"
            ]
          },
          "metadata": {},
          "execution_count": 12
        }
      ]
    },
    {
      "cell_type": "code",
      "source": [
        "from pyspark.ml.feature import VectorAssembler"
      ],
      "metadata": {
        "id": "-aeiXC4dEoaz"
      },
      "execution_count": 13,
      "outputs": []
    },
    {
      "cell_type": "code",
      "source": [
        "featureAssember = VectorAssembler(inputCols=['Age', 'BankBalance'], outputCol='numFeature')"
      ],
      "metadata": {
        "id": "JcVfwRxAE-KR"
      },
      "execution_count": 14,
      "outputs": []
    },
    {
      "cell_type": "code",
      "source": [
        "sparkDataframe = featureAssember.transform(sparkDataframe)"
      ],
      "metadata": {
        "id": "Qaqzei2rFOIo"
      },
      "execution_count": 15,
      "outputs": []
    },
    {
      "cell_type": "code",
      "source": [
        "sparkDataframe.show(5)"
      ],
      "metadata": {
        "colab": {
          "base_uri": "https://localhost:8080/"
        },
        "id": "4oiGn9hkFX9d",
        "outputId": "c85a8782-1858-4594-ef42-0ef886a42bcc"
      },
      "execution_count": 18,
      "outputs": [
        {
          "output_type": "stream",
          "name": "stdout",
          "text": [
            "+---+-------+------------+-------------+-------------+------+-----------+------+---------------+\n",
            "|Age|IsAdult|         Job|Qualification|MaritalStatus|Gender|BankBalance|Salary|     numFeature|\n",
            "+---+-------+------------+-------------+-------------+------+-----------+------+---------------+\n",
            "| 39|      1|     GovtJob|     Bachelor|    UnMarried|  Male|      77516| <=50K| [39.0,77516.0]|\n",
            "| 50|      1|SelfEmployed|     Bachelor|      Married|  Male|      83311| <=50K| [50.0,83311.0]|\n",
            "| 38|      1|  PrivateJob|     Bachelor|     Divorced|  Male|     215646| <=50K|[38.0,215646.0]|\n",
            "| 53|      1|  PrivateJob|       School|      Married|  Male|     234721| <=50K|[53.0,234721.0]|\n",
            "| 28|      1|  PrivateJob|     Bachelor|      Married|Female|     338409| <=50K|[28.0,338409.0]|\n",
            "+---+-------+------------+-------------+-------------+------+-----------+------+---------------+\n",
            "only showing top 5 rows\n",
            "\n"
          ]
        }
      ]
    },
    {
      "cell_type": "code",
      "source": [
        "from pyspark.ml.feature import StandardScaler"
      ],
      "metadata": {
        "id": "0Nz-lssgFZwm"
      },
      "execution_count": 19,
      "outputs": []
    },
    {
      "cell_type": "code",
      "source": [
        "standardScaler = StandardScaler(inputCol='numFeature', outputCol='scaledFeature')"
      ],
      "metadata": {
        "id": "TCeFjyRDFnnG"
      },
      "execution_count": 20,
      "outputs": []
    },
    {
      "cell_type": "code",
      "source": [
        "sparkDataframe = standardScaler.fit(sparkDataframe).transform(sparkDataframe)"
      ],
      "metadata": {
        "id": "e2dtcabtF2tQ"
      },
      "execution_count": 21,
      "outputs": []
    },
    {
      "cell_type": "code",
      "source": [
        "sparkDataframe.show(5)"
      ],
      "metadata": {
        "colab": {
          "base_uri": "https://localhost:8080/"
        },
        "id": "nYOpnjKHF_Nt",
        "outputId": "08edc5a7-b3e5-42c7-f524-5ccbd54d44e2"
      },
      "execution_count": 22,
      "outputs": [
        {
          "output_type": "stream",
          "name": "stdout",
          "text": [
            "+---+-------+------------+-------------+-------------+------+-----------+------+---------------+--------------------+\n",
            "|Age|IsAdult|         Job|Qualification|MaritalStatus|Gender|BankBalance|Salary|     numFeature|       scaledFeature|\n",
            "+---+-------+------------+-------------+-------------+------+-----------+------+---------------+--------------------+\n",
            "| 39|      1|     GovtJob|     Bachelor|    UnMarried|  Male|      77516| <=50K| [39.0,77516.0]|[2.85914686699289...|\n",
            "| 50|      1|SelfEmployed|     Bachelor|      Married|  Male|      83311| <=50K| [50.0,83311.0]|[3.66557290640114...|\n",
            "| 38|      1|  PrivateJob|     Bachelor|     Divorced|  Male|     215646| <=50K|[38.0,215646.0]|[2.78583540886487...|\n",
            "| 53|      1|  PrivateJob|       School|      Married|  Male|     234721| <=50K|[53.0,234721.0]|[3.88550728078521...|\n",
            "| 28|      1|  PrivateJob|     Bachelor|      Married|Female|     338409| <=50K|[28.0,338409.0]|[2.05272082758464...|\n",
            "+---+-------+------------+-------------+-------------+------+-----------+------+---------------+--------------------+\n",
            "only showing top 5 rows\n",
            "\n"
          ]
        }
      ]
    },
    {
      "cell_type": "code",
      "source": [
        "sparkDataframe.select('scaledFeature').take(1)"
      ],
      "metadata": {
        "colab": {
          "base_uri": "https://localhost:8080/"
        },
        "id": "UaXhOLdvGCr8",
        "outputId": "0208573d-3d6c-456e-c8c7-6a2e326f7440"
      },
      "execution_count": 24,
      "outputs": [
        {
          "output_type": "execute_result",
          "data": {
            "text/plain": [
              "[Row(scaledFeature=DenseVector([2.8591, 0.7344]))]"
            ]
          },
          "metadata": {},
          "execution_count": 24
        }
      ]
    },
    {
      "cell_type": "code",
      "source": [
        "sparkDataframe.select('scaledFeature').show(truncate=False)"
      ],
      "metadata": {
        "colab": {
          "base_uri": "https://localhost:8080/"
        },
        "id": "xdR-5IemGJPK",
        "outputId": "59c3cdaf-c368-4a54-9d39-657fdd982c6e"
      },
      "execution_count": 25,
      "outputs": [
        {
          "output_type": "stream",
          "name": "stdout",
          "text": [
            "+----------------------------------------+\n",
            "|scaledFeature                           |\n",
            "+----------------------------------------+\n",
            "|[2.8591468669928934,0.7344009131153691] |\n",
            "|[3.6655729064011453,0.7893038143422586] |\n",
            "|[2.7858354088648705,2.043070066949751]  |\n",
            "|[3.8855072807852142,2.223790143033084]  |\n",
            "|[2.0527208275846416,3.2061494221381257] |\n",
            "|[2.7125239507368475,2.696182474020821]  |\n",
            "|[3.5922614482731223,1.5176412491512932] |\n",
            "|[3.8121958226571913,1.9861870610884491] |\n",
            "|[2.27265520196871,0.43373765678485365]  |\n",
            "|[3.079081241376962,1.510649300729301]   |\n",
            "|[2.7125239507368475,2.6571677807934995] |\n",
            "|[2.199343743840687,1.3386738972658847]  |\n",
            "|[1.686163536944527,1.1584275304252336]  |\n",
            "|[2.345966660096733,1.942387904510035]   |\n",
            "|[2.9324583251209164,1.1536904379984099] |\n",
            "|[2.492589576352779,2.3257892171674572]  |\n",
            "|[1.8327864532005727,1.674619017991385]  |\n",
            "|[2.345966660096733,1.7700051110979118]  |\n",
            "|[2.7858354088648705,0.27368077786732636]|\n",
            "|[3.152392699504985,2.7681199596145696]  |\n",
            "+----------------------------------------+\n",
            "only showing top 20 rows\n",
            "\n"
          ]
        }
      ]
    },
    {
      "cell_type": "code",
      "source": [
        "spark.stop()"
      ],
      "metadata": {
        "id": "wnZYcjiiGXCb"
      },
      "execution_count": 26,
      "outputs": []
    },
    {
      "cell_type": "code",
      "source": [],
      "metadata": {
        "id": "3oH7LzOAGeWO"
      },
      "execution_count": null,
      "outputs": []
    }
  ]
}