{
  "nbformat": 4,
  "nbformat_minor": 0,
  "metadata": {
    "colab": {
      "provenance": []
    },
    "kernelspec": {
      "name": "python3",
      "display_name": "Python 3"
    },
    "language_info": {
      "name": "python"
    }
  },
  "cells": [
    {
      "cell_type": "code",
      "source": [
        "from pyspark.sql import SparkSession"
      ],
      "metadata": {
        "id": "YKRuG5NsJZx3"
      },
      "execution_count": 1,
      "outputs": []
    },
    {
      "cell_type": "code",
      "source": [
        "spark = SparkSession.builder.appName('One Hot Encoding')\\\n",
        "                    .getOrCreate()"
      ],
      "metadata": {
        "id": "av0jnKMaJdMR"
      },
      "execution_count": 2,
      "outputs": []
    },
    {
      "cell_type": "code",
      "source": [
        "spark"
      ],
      "metadata": {
        "colab": {
          "base_uri": "https://localhost:8080/",
          "height": 219
        },
        "id": "qEJZlS9yJwOQ",
        "outputId": "0d647c93-222c-4157-8c28-8aa2b226e163"
      },
      "execution_count": 3,
      "outputs": [
        {
          "output_type": "execute_result",
          "data": {
            "text/plain": [
              "<pyspark.sql.session.SparkSession at 0x7be394485d50>"
            ],
            "text/html": [
              "\n",
              "            <div>\n",
              "                <p><b>SparkSession - in-memory</b></p>\n",
              "                \n",
              "        <div>\n",
              "            <p><b>SparkContext</b></p>\n",
              "\n",
              "            <p><a href=\"http://f4fd9a8cd23b:4040\">Spark UI</a></p>\n",
              "\n",
              "            <dl>\n",
              "              <dt>Version</dt>\n",
              "                <dd><code>v3.5.4</code></dd>\n",
              "              <dt>Master</dt>\n",
              "                <dd><code>local[*]</code></dd>\n",
              "              <dt>AppName</dt>\n",
              "                <dd><code>One Hot Encoding</code></dd>\n",
              "            </dl>\n",
              "        </div>\n",
              "        \n",
              "            </div>\n",
              "        "
            ]
          },
          "metadata": {},
          "execution_count": 3
        }
      ]
    },
    {
      "cell_type": "code",
      "source": [
        "sparkDataFrame = spark.read.csv('/content/AdultIncome.csv', header=True, inferSchema=True)"
      ],
      "metadata": {
        "id": "k6okk4sjJ4C1"
      },
      "execution_count": 4,
      "outputs": []
    },
    {
      "cell_type": "code",
      "source": [
        "sparkDataFrame.show()"
      ],
      "metadata": {
        "colab": {
          "base_uri": "https://localhost:8080/"
        },
        "id": "wVE14uxkKGVF",
        "outputId": "e40535e1-35dd-48a8-bd07-3cebd6f2cb59"
      },
      "execution_count": 5,
      "outputs": [
        {
          "output_type": "stream",
          "name": "stdout",
          "text": [
            "+---+-------+------------+-------------+-------------+------+-----------+------+\n",
            "|Age|IsAdult|         Job|Qualification|MaritalStatus|Gender|BankBalance|Salary|\n",
            "+---+-------+------------+-------------+-------------+------+-----------+------+\n",
            "| 39|      1|     GovtJob|     Bachelor|    UnMarried|  Male|      77516| <=50K|\n",
            "| 50|      1|SelfEmployed|     Bachelor|      Married|  Male|      83311| <=50K|\n",
            "| 38|      1|  PrivateJob|     Bachelor|     Divorced|  Male|     215646| <=50K|\n",
            "| 53|      1|  PrivateJob|       School|      Married|  Male|     234721| <=50K|\n",
            "| 28|      1|  PrivateJob|     Bachelor|      Married|Female|     338409| <=50K|\n",
            "| 37|      1|  PrivateJob|      Masters|      Married|Female|     284582| <=50K|\n",
            "| 49|      1|  PrivateJob|       School|      Married|Female|     160187| <=50K|\n",
            "| 52|      1|SelfEmployed|     Bachelor|      Married|  Male|     209642|  >50K|\n",
            "| 31|      1|  PrivateJob|      Masters|    UnMarried|Female|      45781|  >50K|\n",
            "| 42|      1|  PrivateJob|     Bachelor|      Married|  Male|     159449|  >50K|\n",
            "| 37|      1|  PrivateJob|     Bachelor|      Married|  Male|     280464|  >50K|\n",
            "| 30|      1|     GovtJob|     Bachelor|      Married|  Male|     141297|  >50K|\n",
            "| 23|      1|  PrivateJob|     Bachelor|    UnMarried|Female|     122272| <=50K|\n",
            "| 32|      1|  PrivateJob|     Bachelor|    UnMarried|  Male|     205019| <=50K|\n",
            "| 40|      1|  PrivateJob|     Bachelor|      Married|  Male|     121772|  >50K|\n",
            "| 34|      1|  PrivateJob|       School|      Married|  Male|     245487| <=50K|\n",
            "| 25|      1|SelfEmployed|     Bachelor|    UnMarried|  Male|     176756| <=50K|\n",
            "| 32|      1|  PrivateJob|     Bachelor|    UnMarried|  Male|     186824| <=50K|\n",
            "| 38|      1|  PrivateJob|       School|      Married|  Male|      28887| <=50K|\n",
            "| 43|      1|SelfEmployed|      Masters|     Divorced|Female|     292175|  >50K|\n",
            "+---+-------+------------+-------------+-------------+------+-----------+------+\n",
            "only showing top 20 rows\n",
            "\n"
          ]
        }
      ]
    },
    {
      "cell_type": "code",
      "source": [
        "sparkDataFrame.columns"
      ],
      "metadata": {
        "colab": {
          "base_uri": "https://localhost:8080/"
        },
        "id": "75vg4IiwKQPF",
        "outputId": "01cefdc1-9a83-4dee-a68f-22e8be4a5648"
      },
      "execution_count": 6,
      "outputs": [
        {
          "output_type": "execute_result",
          "data": {
            "text/plain": [
              "['Age',\n",
              " 'IsAdult',\n",
              " 'Job',\n",
              " 'Qualification',\n",
              " 'MaritalStatus',\n",
              " 'Gender',\n",
              " 'BankBalance',\n",
              " 'Salary']"
            ]
          },
          "metadata": {},
          "execution_count": 6
        }
      ]
    },
    {
      "cell_type": "code",
      "source": [
        "sparkDataFrame.printSchema()"
      ],
      "metadata": {
        "colab": {
          "base_uri": "https://localhost:8080/"
        },
        "id": "iWD5396QKUrt",
        "outputId": "4bb3547c-298b-4ee8-85ae-eb1525e7e251"
      },
      "execution_count": 7,
      "outputs": [
        {
          "output_type": "stream",
          "name": "stdout",
          "text": [
            "root\n",
            " |-- Age: integer (nullable = true)\n",
            " |-- IsAdult: integer (nullable = true)\n",
            " |-- Job: string (nullable = true)\n",
            " |-- Qualification: string (nullable = true)\n",
            " |-- MaritalStatus: string (nullable = true)\n",
            " |-- Gender: string (nullable = true)\n",
            " |-- BankBalance: integer (nullable = true)\n",
            " |-- Salary: string (nullable = true)\n",
            "\n"
          ]
        }
      ]
    },
    {
      "cell_type": "code",
      "source": [
        "print((sparkDataFrame.count(),len(sparkDataFrame.columns)))"
      ],
      "metadata": {
        "colab": {
          "base_uri": "https://localhost:8080/"
        },
        "id": "C60NZi_XKcKQ",
        "outputId": "a3d285d2-17e2-4e9a-ea76-ec30f3308091"
      },
      "execution_count": 8,
      "outputs": [
        {
          "output_type": "stream",
          "name": "stdout",
          "text": [
            "(32561, 8)\n"
          ]
        }
      ]
    },
    {
      "cell_type": "code",
      "source": [
        "from pyspark.ml.feature import StringIndexer, OneHotEncoder"
      ],
      "metadata": {
        "id": "1hUMD3-nK-Px"
      },
      "execution_count": 9,
      "outputs": []
    },
    {
      "cell_type": "code",
      "source": [
        "stringIndexer = StringIndexer(inputCols=['Job','Qualification','MaritalStatus','Gender'],\n",
        "                              outputCols=['IJob', 'IQualification', 'IMaritalStatus', 'IGender'])"
      ],
      "metadata": {
        "id": "-PbXFybaLDvC"
      },
      "execution_count": 10,
      "outputs": []
    },
    {
      "cell_type": "code",
      "source": [
        "sparkDataFrameFitted = stringIndexer.fit(sparkDataFrame)"
      ],
      "metadata": {
        "id": "8GnnsOmHLl2x"
      },
      "execution_count": 11,
      "outputs": []
    },
    {
      "cell_type": "code",
      "source": [
        "sparkDataFrame = sparkDataFrameFitted.transform(sparkDataFrame)"
      ],
      "metadata": {
        "id": "LsFGPx_1L0Im"
      },
      "execution_count": 14,
      "outputs": []
    },
    {
      "cell_type": "code",
      "source": [
        "sparkDataFrame.show(5)"
      ],
      "metadata": {
        "colab": {
          "base_uri": "https://localhost:8080/"
        },
        "id": "MHgNGnr6L2xJ",
        "outputId": "4996c78c-2442-4ada-e508-826c8e800c8f"
      },
      "execution_count": 15,
      "outputs": [
        {
          "output_type": "stream",
          "name": "stdout",
          "text": [
            "+---+-------+------------+-------------+-------------+------+-----------+------+----+--------------+--------------+-------+\n",
            "|Age|IsAdult|         Job|Qualification|MaritalStatus|Gender|BankBalance|Salary|IJob|IQualification|IMaritalStatus|IGender|\n",
            "+---+-------+------------+-------------+-------------+------+-----------+------+----+--------------+--------------+-------+\n",
            "| 39|      1|     GovtJob|     Bachelor|    UnMarried|  Male|      77516| <=50K| 2.0|           0.0|           1.0|    0.0|\n",
            "| 50|      1|SelfEmployed|     Bachelor|      Married|  Male|      83311| <=50K| 1.0|           0.0|           0.0|    0.0|\n",
            "| 38|      1|  PrivateJob|     Bachelor|     Divorced|  Male|     215646| <=50K| 0.0|           0.0|           2.0|    0.0|\n",
            "| 53|      1|  PrivateJob|       School|      Married|  Male|     234721| <=50K| 0.0|           1.0|           0.0|    0.0|\n",
            "| 28|      1|  PrivateJob|     Bachelor|      Married|Female|     338409| <=50K| 0.0|           0.0|           0.0|    1.0|\n",
            "+---+-------+------------+-------------+-------------+------+-----------+------+----+--------------+--------------+-------+\n",
            "only showing top 5 rows\n",
            "\n"
          ]
        }
      ]
    },
    {
      "cell_type": "code",
      "source": [
        "oneHotEncoder = OneHotEncoder(inputCols=['IsAdult',\n",
        " 'IJob',\n",
        " 'IQualification',\n",
        " 'IMaritalStatus',\n",
        " 'IGender'], outputCols=['DIsAdult',\n",
        " 'DIJob',\n",
        " 'DIQualification',\n",
        " 'DIMaritalStatus',\n",
        " 'DIGender'])"
      ],
      "metadata": {
        "id": "uEKT1bAPNdcU"
      },
      "execution_count": 16,
      "outputs": []
    },
    {
      "cell_type": "code",
      "source": [
        "oneHotEncoderFitted = oneHotEncoder.fit(sparkDataFrame)"
      ],
      "metadata": {
        "id": "4veQjZyzPiLV"
      },
      "execution_count": 17,
      "outputs": []
    },
    {
      "cell_type": "code",
      "source": [
        "sparkDataFrame = oneHotEncoderFitted.transform(sparkDataFrame)"
      ],
      "metadata": {
        "id": "6VGphpRHPoVN"
      },
      "execution_count": 18,
      "outputs": []
    },
    {
      "cell_type": "code",
      "source": [
        "sparkDataFrame.show(10)"
      ],
      "metadata": {
        "colab": {
          "base_uri": "https://localhost:8080/"
        },
        "id": "ibzVDMXKPvCY",
        "outputId": "94341bb9-5070-41c7-b2cf-705f02f237f5"
      },
      "execution_count": 19,
      "outputs": [
        {
          "output_type": "stream",
          "name": "stdout",
          "text": [
            "+---+-------+------------+-------------+-------------+------+-----------+------+----+--------------+--------------+-------+---------+-------------+---------------+---------------+-------------+\n",
            "|Age|IsAdult|         Job|Qualification|MaritalStatus|Gender|BankBalance|Salary|IJob|IQualification|IMaritalStatus|IGender| DIsAdult|        DIJob|DIQualification|DIMaritalStatus|     DIGender|\n",
            "+---+-------+------------+-------------+-------------+------+-----------+------+----+--------------+--------------+-------+---------+-------------+---------------+---------------+-------------+\n",
            "| 39|      1|     GovtJob|     Bachelor|    UnMarried|  Male|      77516| <=50K| 2.0|           0.0|           1.0|    0.0|(1,[],[])|    (2,[],[])|  (3,[0],[1.0])|  (3,[1],[1.0])|(1,[0],[1.0])|\n",
            "| 50|      1|SelfEmployed|     Bachelor|      Married|  Male|      83311| <=50K| 1.0|           0.0|           0.0|    0.0|(1,[],[])|(2,[1],[1.0])|  (3,[0],[1.0])|  (3,[0],[1.0])|(1,[0],[1.0])|\n",
            "| 38|      1|  PrivateJob|     Bachelor|     Divorced|  Male|     215646| <=50K| 0.0|           0.0|           2.0|    0.0|(1,[],[])|(2,[0],[1.0])|  (3,[0],[1.0])|  (3,[2],[1.0])|(1,[0],[1.0])|\n",
            "| 53|      1|  PrivateJob|       School|      Married|  Male|     234721| <=50K| 0.0|           1.0|           0.0|    0.0|(1,[],[])|(2,[0],[1.0])|  (3,[1],[1.0])|  (3,[0],[1.0])|(1,[0],[1.0])|\n",
            "| 28|      1|  PrivateJob|     Bachelor|      Married|Female|     338409| <=50K| 0.0|           0.0|           0.0|    1.0|(1,[],[])|(2,[0],[1.0])|  (3,[0],[1.0])|  (3,[0],[1.0])|    (1,[],[])|\n",
            "| 37|      1|  PrivateJob|      Masters|      Married|Female|     284582| <=50K| 0.0|           2.0|           0.0|    1.0|(1,[],[])|(2,[0],[1.0])|  (3,[2],[1.0])|  (3,[0],[1.0])|    (1,[],[])|\n",
            "| 49|      1|  PrivateJob|       School|      Married|Female|     160187| <=50K| 0.0|           1.0|           0.0|    1.0|(1,[],[])|(2,[0],[1.0])|  (3,[1],[1.0])|  (3,[0],[1.0])|    (1,[],[])|\n",
            "| 52|      1|SelfEmployed|     Bachelor|      Married|  Male|     209642|  >50K| 1.0|           0.0|           0.0|    0.0|(1,[],[])|(2,[1],[1.0])|  (3,[0],[1.0])|  (3,[0],[1.0])|(1,[0],[1.0])|\n",
            "| 31|      1|  PrivateJob|      Masters|    UnMarried|Female|      45781|  >50K| 0.0|           2.0|           1.0|    1.0|(1,[],[])|(2,[0],[1.0])|  (3,[2],[1.0])|  (3,[1],[1.0])|    (1,[],[])|\n",
            "| 42|      1|  PrivateJob|     Bachelor|      Married|  Male|     159449|  >50K| 0.0|           0.0|           0.0|    0.0|(1,[],[])|(2,[0],[1.0])|  (3,[0],[1.0])|  (3,[0],[1.0])|(1,[0],[1.0])|\n",
            "+---+-------+------------+-------------+-------------+------+-----------+------+----+--------------+--------------+-------+---------+-------------+---------------+---------------+-------------+\n",
            "only showing top 10 rows\n",
            "\n"
          ]
        }
      ]
    },
    {
      "cell_type": "code",
      "source": [
        "spark.stop()"
      ],
      "metadata": {
        "id": "2ypBWcxBPxi7"
      },
      "execution_count": 20,
      "outputs": []
    },
    {
      "cell_type": "code",
      "source": [],
      "metadata": {
        "id": "Brl49mnyQFPf"
      },
      "execution_count": null,
      "outputs": []
    }
  ]
}